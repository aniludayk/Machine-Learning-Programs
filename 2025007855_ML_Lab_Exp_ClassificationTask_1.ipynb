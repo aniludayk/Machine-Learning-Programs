{
  "nbformat": 4,
  "nbformat_minor": 0,
  "metadata": {
    "colab": {
      "provenance": [],
      "authorship_tag": "ABX9TyPZ52Hcn0HHmfGCfntXbuuE",
      "include_colab_link": true
    },
    "kernelspec": {
      "name": "python3",
      "display_name": "Python 3"
    },
    "language_info": {
      "name": "python"
    }
  },
  "cells": [
    {
      "cell_type": "markdown",
      "metadata": {
        "id": "view-in-github",
        "colab_type": "text"
      },
      "source": [
        "<a href=\"https://colab.research.google.com/github/aniludayk/Machine-Learning-Programs/blob/main/2025007855_ML_Lab_Exp_ClassificationTask_1.ipynb\" target=\"_parent\"><img src=\"https://colab.research.google.com/assets/colab-badge.svg\" alt=\"Open In Colab\"/></a>"
      ]
    },
    {
      "cell_type": "markdown",
      "source": [],
      "metadata": {
        "id": "k1_cVbW1l4gg"
      }
    },
    {
      "cell_type": "markdown",
      "source": [
        "#ML Lab Exp-Classification"
      ],
      "metadata": {
        "id": "XRki_DQ9njAI"
      }
    },
    {
      "cell_type": "markdown",
      "source": [
        "##Task-1"
      ],
      "metadata": {
        "id": "uyjEuKGWnrwo"
      }
    },
    {
      "cell_type": "code",
      "execution_count": null,
      "metadata": {
        "id": "4Q53AAZ_VsGi"
      },
      "outputs": [],
      "source": [
        "from sklearn.model_selection import train_test_split\n",
        "from sklearn.preprocessing import StandardScaler\n",
        "from sklearn.linear_model import LogisticRegression\n",
        "from sklearn.tree import DecisionTreeClassifier\n",
        "from sklearn.svm import SVC\n",
        "import kagglehub"
      ]
    },
    {
      "cell_type": "code",
      "source": [
        "# Download latest version\n",
        "path = kagglehub.dataset_download(\"yasserh/wine-quality-dataset\")\n",
        "\n",
        "print(\"Path to dataset files:\", path)"
      ],
      "metadata": {
        "colab": {
          "base_uri": "https://localhost:8080/"
        },
        "id": "MTzyxR1DadIE",
        "outputId": "de8db27b-12db-46f0-dcf3-117ae919714d"
      },
      "execution_count": null,
      "outputs": [
        {
          "output_type": "stream",
          "name": "stdout",
          "text": [
            "Using Colab cache for faster access to the 'wine-quality-dataset' dataset.\n",
            "Path to dataset files: /kaggle/input/wine-quality-dataset\n"
          ]
        }
      ]
    },
    {
      "cell_type": "code",
      "source": [
        "# Dataset\n",
        "X, y = make_classification(n_samples=1000, n_features=20, n_informative=15,\n",
        "              n_redundant=5, n_classes=3, weights=[0.5, 0.3, 0.2],\n",
        "              class_sep=1.5, flip_y=0.01, random_state=42)\n",
        "X_train, X_test, y_train, y_test = train_test_split(X, y, test_size=0.2, random_state=0)"
      ],
      "metadata": {
        "id": "PoNPzLFOadDr"
      },
      "execution_count": null,
      "outputs": []
    },
    {
      "cell_type": "code",
      "source": [
        "# Scale features for models sensitive to scale\n",
        "scaler = StandardScaler()\n",
        "X_train_scaled = scaler.fit_transform(X_train)\n",
        "X_test_scaled = scaler.transform(X_test)\n"
      ],
      "metadata": {
        "id": "mu0hZUQ-adAd"
      },
      "execution_count": null,
      "outputs": []
    },
    {
      "cell_type": "code",
      "source": [
        "# Logistic Regression\n",
        "lr = LogisticRegression(multi_class='multinomial', solver='lbfgs', max_iter=1000)\n",
        "lr.fit(X_train_scaled, y_train)\n",
        "print(\"Logistic Regression Accuracy:\", lr.score(X_test_scaled, y_test))\n"
      ],
      "metadata": {
        "colab": {
          "base_uri": "https://localhost:8080/"
        },
        "id": "5ydK8Oerac9S",
        "outputId": "45715667-9992-4700-83b2-34c2b4709e00"
      },
      "execution_count": null,
      "outputs": [
        {
          "output_type": "stream",
          "name": "stdout",
          "text": [
            "Logistic Regression Accuracy: 0.89\n"
          ]
        },
        {
          "output_type": "stream",
          "name": "stderr",
          "text": [
            "/usr/local/lib/python3.12/dist-packages/sklearn/linear_model/_logistic.py:1247: FutureWarning: 'multi_class' was deprecated in version 1.5 and will be removed in 1.7. From then on, it will always use 'multinomial'. Leave it to its default value to avoid this warning.\n",
            "  warnings.warn(\n"
          ]
        }
      ]
    },
    {
      "cell_type": "code",
      "source": [
        "# Decision Tree\n",
        "tree = DecisionTreeClassifier(max_depth=10, random_state=42)\n",
        "tree.fit(X_train, y_train)\n",
        "print(\"Decision Tree Accuracy:\", tree.score(X_test, y_test))"
      ],
      "metadata": {
        "colab": {
          "base_uri": "https://localhost:8080/"
        },
        "id": "vWwRHFEdakKR",
        "outputId": "c8533c80-b151-441b-aef9-98b82c56ce50"
      },
      "execution_count": null,
      "outputs": [
        {
          "output_type": "stream",
          "name": "stdout",
          "text": [
            "Decision Tree Accuracy: 0.81\n"
          ]
        }
      ]
    },
    {
      "cell_type": "code",
      "source": [
        "# SVM with different kernels\n",
        "svc_linear = SVC(kernel='linear')\n",
        "svc_linear.fit(X_train_scaled, y_train)\n",
        "print(\"Linear SVM Accuracy:\", svc_linear.score(X_test_scaled, y_test))\n",
        "\n",
        "svc_poly = SVC(kernel='poly', degree=3)\n",
        "svc_poly.fit(X_train_scaled, y_train)\n",
        "print(\"Polynomial SVM Accuracy:\", svc_poly.score(X_test_scaled, y_test))\n",
        "\n",
        "svc_rbf = SVC(kernel='rbf')\n",
        "svc_rbf.fit(X_train_scaled, y_train)\n",
        "print(\"RBF SVM Accuracy:\", svc_rbf.score(X_test_scaled, y_test))\n"
      ],
      "metadata": {
        "colab": {
          "base_uri": "https://localhost:8080/"
        },
        "id": "xtJRL3egakHJ",
        "outputId": "7fe2b95e-b1f7-47da-9306-2545867dd9cb"
      },
      "execution_count": null,
      "outputs": [
        {
          "output_type": "stream",
          "name": "stdout",
          "text": [
            "Linear SVM Accuracy: 0.885\n",
            "Polynomial SVM Accuracy: 0.955\n",
            "RBF SVM Accuracy: 0.97\n"
          ]
        }
      ]
    },
    {
      "cell_type": "markdown",
      "source": [],
      "metadata": {
        "id": "zB6knHuin_9f"
      }
    },
    {
      "cell_type": "markdown",
      "source": [
        "## Task-2"
      ],
      "metadata": {
        "id": "fKr_Gv19oHhv"
      }
    },
    {
      "cell_type": "code",
      "source": [
        "import joblib\n",
        "import os\n",
        "from google.colab import drive"
      ],
      "metadata": {
        "id": "tlECNMVnoM4H"
      },
      "execution_count": null,
      "outputs": []
    },
    {
      "cell_type": "code",
      "source": [
        "drive.mount('/content/drive')"
      ],
      "metadata": {
        "colab": {
          "base_uri": "https://localhost:8080/"
        },
        "id": "dfluere6nAIB",
        "outputId": "648ebd24-0094-4db6-d535-6bf41e4b512e"
      },
      "execution_count": null,
      "outputs": [
        {
          "output_type": "stream",
          "name": "stdout",
          "text": [
            "Mounted at /content/drive\n"
          ]
        }
      ]
    },
    {
      "cell_type": "code",
      "source": [
        "# Set path in your Google Drive\n",
        "save_path = '/content/drive/MyDrive/ML_Models_WineQuality'\n",
        "\n",
        "# Create the directory if it doesn't exist\n",
        "os.makedirs(save_path, exist_ok=True)"
      ],
      "metadata": {
        "id": "Q5KnZbIinAQq"
      },
      "execution_count": null,
      "outputs": []
    },
    {
      "cell_type": "code",
      "source": [
        "# Save Logistic Regression\n",
        "joblib.dump(lr, os.path.join(save_path, 'logistic_regression_model.joblib'))\n",
        "\n",
        "# Save Decision Tree\n",
        "joblib.dump(tree, os.path.join(save_path, 'decision_tree_model.joblib'))\n",
        "\n",
        "# Save Best SVM (e.g., RBF kernel)\n",
        "joblib.dump(svc_rbf, os.path.join(save_path, 'svm_rbf_model.joblib'))"
      ],
      "metadata": {
        "colab": {
          "base_uri": "https://localhost:8080/"
        },
        "id": "e5E0dhaInJHO",
        "outputId": "f8d9edce-a8d3-44be-92b4-48b0a2d0d1c3"
      },
      "execution_count": null,
      "outputs": [
        {
          "output_type": "execute_result",
          "data": {
            "text/plain": [
              "['/content/drive/MyDrive/ML_Models_WineQuality/svm_rbf_model.joblib']"
            ]
          },
          "metadata": {},
          "execution_count": 14
        }
      ]
    },
    {
      "cell_type": "code",
      "source": [
        "# You can also save hyperparameters separately (or as part of the model config)\n",
        "hyperparams = {\n",
        "    'logistic_regression': lr.get_params(),\n",
        "    'decision_tree': tree.get_params(),\n",
        "    'svm_rbf': svc_rbf.get_params()\n",
        "}\n",
        "\n",
        "joblib.dump(hyperparams, os.path.join(save_path, 'model_hyperparameters.joblib'))"
      ],
      "metadata": {
        "colab": {
          "base_uri": "https://localhost:8080/"
        },
        "id": "mKT3cLzLnJKI",
        "outputId": "d61e165c-ba13-49f2-b233-50440d3e6fd7"
      },
      "execution_count": null,
      "outputs": [
        {
          "output_type": "execute_result",
          "data": {
            "text/plain": [
              "['/content/drive/MyDrive/ML_Models_WineQuality/model_hyperparameters.joblib']"
            ]
          },
          "metadata": {},
          "execution_count": 15
        }
      ]
    }
  ]
}